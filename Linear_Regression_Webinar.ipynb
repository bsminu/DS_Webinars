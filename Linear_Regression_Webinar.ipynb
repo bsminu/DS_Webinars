{
  "nbformat": 4,
  "nbformat_minor": 0,
  "metadata": {
    "colab": {
      "name": "Linear Regression Webinar.ipynb",
      "provenance": [],
      "authorship_tag": "ABX9TyNUWYhck7Yeu9RVYStLMcm6",
      "include_colab_link": true
    },
    "kernelspec": {
      "name": "python3",
      "display_name": "Python 3"
    }
  },
  "cells": [
    {
      "cell_type": "markdown",
      "metadata": {
        "id": "view-in-github",
        "colab_type": "text"
      },
      "source": [
        "<a href=\"https://colab.research.google.com/github/bsminu/DS_Webinars/blob/main/Linear_Regression_Webinar.ipynb\" target=\"_parent\"><img src=\"https://colab.research.google.com/assets/colab-badge.svg\" alt=\"Open In Colab\"/></a>"
      ]
    },
    {
      "cell_type": "markdown",
      "metadata": {
        "id": "6y4ZwqPIrGm9"
      },
      "source": [
        "## Introduction to Linear Regression\n",
        "\n",
        "This notebook give you a brief introduction to one of the simplest Machine Learning called 'Linear Regression'."
      ]
    },
    {
      "cell_type": "code",
      "metadata": {
        "id": "2nnVgmPAqzdW"
      },
      "source": [
        "import pandas as pd\n",
        "from sklearn import preprocessing\n",
        "from sklearn.model_selection import train_test_split\n",
        "from sklearn.linear_model import LinearRegression\n",
        "from sklearn.metrics import mean_squared_error, r2_score\n",
        "import matplotlib.pyplot as plt\n",
        "%matplotlib inline\n",
        "import seaborn as sns\n",
        "\n",
        "import math"
      ],
      "execution_count": 1,
      "outputs": []
    },
    {
      "cell_type": "code",
      "metadata": {
        "id": "lbhAzLjmrsat"
      },
      "source": [
        "YearsExperience = [1.1 , 1.3 , 1.5 , 2.0 , 2.2 , 2.9 , 3.0 , 3.2 , 3.2 , 3.7 , 3.9 , 4.0 , 4.0 , 4.1 , 4.5 , 4.9 , 5.1 , 5.3 , 5.9 , 6.0 , 6.8 , 7.1 , 7.9 , 8.2 , 8.7 , 9.0 , 9.5 , 9.6 , 10.3 , 10.5 ]\n",
        "\n",
        "Salary = [39343.00 , 46205.00 , 37731.00 , 43525.00 , 39891.00 , 56642.00 , 60150.00 , 54445.00 , 64445.00 , 57189.00 , 63218.00 , 55794.00 , 56957.00 , 57081.00 , 61111.00 , 67938.00 , 66029.00 , 83088.00 , 81363.00 , 93940.00 , 91738.00 , 98273.00 , 101302.00 , 113812.00 , 109431.00 , 105582.00 , 116969.00 , 112635.00 , 122391.00 , 121872.00 ]"
      ],
      "execution_count": 2,
      "outputs": []
    },
    {
      "cell_type": "code",
      "metadata": {
        "id": "Xh6IVjgMr7fm"
      },
      "source": [
        "data = {'YearsExperience' : YearsExperience, \n",
        "        'Salary' : Salary}\n",
        "df = pd.DataFrame(data, columns = ['YearsExperience','Salary'])"
      ],
      "execution_count": 9,
      "outputs": []
    },
    {
      "cell_type": "code",
      "metadata": {
        "id": "9a_8mi4YsIVh",
        "outputId": "5c8405b5-664d-420a-c30f-a9cd87449a65",
        "colab": {
          "base_uri": "https://localhost:8080/",
          "height": 204
        }
      },
      "source": [
        "df.head(5)"
      ],
      "execution_count": 28,
      "outputs": [
        {
          "output_type": "execute_result",
          "data": {
            "text/html": [
              "<div>\n",
              "<style scoped>\n",
              "    .dataframe tbody tr th:only-of-type {\n",
              "        vertical-align: middle;\n",
              "    }\n",
              "\n",
              "    .dataframe tbody tr th {\n",
              "        vertical-align: top;\n",
              "    }\n",
              "\n",
              "    .dataframe thead th {\n",
              "        text-align: right;\n",
              "    }\n",
              "</style>\n",
              "<table border=\"1\" class=\"dataframe\">\n",
              "  <thead>\n",
              "    <tr style=\"text-align: right;\">\n",
              "      <th></th>\n",
              "      <th>YearsExperience</th>\n",
              "      <th>Salary</th>\n",
              "    </tr>\n",
              "  </thead>\n",
              "  <tbody>\n",
              "    <tr>\n",
              "      <th>0</th>\n",
              "      <td>1.1</td>\n",
              "      <td>39343.0</td>\n",
              "    </tr>\n",
              "    <tr>\n",
              "      <th>1</th>\n",
              "      <td>1.3</td>\n",
              "      <td>46205.0</td>\n",
              "    </tr>\n",
              "    <tr>\n",
              "      <th>2</th>\n",
              "      <td>1.5</td>\n",
              "      <td>37731.0</td>\n",
              "    </tr>\n",
              "    <tr>\n",
              "      <th>3</th>\n",
              "      <td>2.0</td>\n",
              "      <td>43525.0</td>\n",
              "    </tr>\n",
              "    <tr>\n",
              "      <th>4</th>\n",
              "      <td>2.2</td>\n",
              "      <td>39891.0</td>\n",
              "    </tr>\n",
              "  </tbody>\n",
              "</table>\n",
              "</div>"
            ],
            "text/plain": [
              "   YearsExperience   Salary\n",
              "0              1.1  39343.0\n",
              "1              1.3  46205.0\n",
              "2              1.5  37731.0\n",
              "3              2.0  43525.0\n",
              "4              2.2  39891.0"
            ]
          },
          "metadata": {
            "tags": []
          },
          "execution_count": 28
        }
      ]
    },
    {
      "cell_type": "code",
      "metadata": {
        "id": "4wbJrLY1sU0a",
        "outputId": "39f9260c-1c7a-47eb-88b7-02e61e6af8d7",
        "colab": {
          "base_uri": "https://localhost:8080/",
          "height": 282
        }
      },
      "source": [
        "plt.scatter(data['YearsExperience'],data['Salary'])"
      ],
      "execution_count": 11,
      "outputs": [
        {
          "output_type": "execute_result",
          "data": {
            "text/plain": [
              "<matplotlib.collections.PathCollection at 0x7f560c9e9eb8>"
            ]
          },
          "metadata": {
            "tags": []
          },
          "execution_count": 11
        },
        {
          "output_type": "display_data",
          "data": {
            "image/png": "[encoded data removed]",
            "text/plain": [
              "<Figure size 432x288 with 1 Axes>"
            ]
          },
          "metadata": {
            "tags": [],
            "needs_background": "light"
          }
        }
      ]
    },
    {
      "cell_type": "code",
      "metadata": {
        "id": "wPSuHZJds_hw"
      },
      "source": [
        "# Features - years experience\n",
        "\n",
        "features = df.iloc[:, :-1].values \n",
        "\n",
        "# Labels  - Salary\n",
        "labels = df.iloc[:, 1].values"
      ],
      "execution_count": 18,
      "outputs": []
    },
    {
      "cell_type": "code",
      "metadata": {
        "id": "2veT8pmwtG4T",
        "outputId": "71080f27-0531-4240-feb0-d9f5150c21fe",
        "colab": {
          "base_uri": "https://localhost:8080/",
          "height": 34
        }
      },
      "source": [
        "# Splitting the dataset into the Training set and Test set\n",
        "#from sklearn.cross_validation import train_test_split\n",
        "X_train, X_test, y_train, y_test = train_test_split(features, labels, test_size =0.3, random_state = 123)\n",
        "\n",
        "#X_train X_test << features\n",
        "#y_train, y_test << lables\n",
        "\n",
        "#X_train , y_train << training data\n",
        "#X_test, y_test << testing data\n",
        "\n",
        "\n",
        "\n",
        "# Fitting Simple Linear Regression to the Training set\n",
        "#from sklearn.linear_model import LinearRegression\n",
        "model = LinearRegression()\n",
        "model.fit(X_train, y_train)"
      ],
      "execution_count": 19,
      "outputs": [
        {
          "output_type": "execute_result",
          "data": {
            "text/plain": [
              "LinearRegression(copy_X=True, fit_intercept=True, n_jobs=None, normalize=False)"
            ]
          },
          "metadata": {
            "tags": []
          },
          "execution_count": 19
        }
      ]
    },
    {
      "cell_type": "code",
      "metadata": {
        "id": "F4y-1Y8ptmj6",
        "outputId": "1e42c199-2168-495e-a007-1e4565dcfc14",
        "colab": {
          "base_uri": "https://localhost:8080/",
          "height": 34
        }
      },
      "source": [
        "model.coef_   # slope (m)"
      ],
      "execution_count": 20,
      "outputs": [
        {
          "output_type": "execute_result",
          "data": {
            "text/plain": [
              "array([9602.56221394])"
            ]
          },
          "metadata": {
            "tags": []
          },
          "execution_count": 20
        }
      ]
    },
    {
      "cell_type": "code",
      "metadata": {
        "id": "rpxhNbAjt0Y3",
        "outputId": "ffc04aff-32fa-4f4f-d749-eff87ecbba73",
        "colab": {
          "base_uri": "https://localhost:8080/",
          "height": 34
        }
      },
      "source": [
        "model.intercept_  # c"
      ],
      "execution_count": 21,
      "outputs": [
        {
          "output_type": "execute_result",
          "data": {
            "text/plain": [
              "25235.61631667627"
            ]
          },
          "metadata": {
            "tags": []
          },
          "execution_count": 21
        }
      ]
    },
    {
      "cell_type": "code",
      "metadata": {
        "id": "G1mJ6dv6t2iU"
      },
      "source": [
        "#Equation will look like \n",
        "#y = m * x + c\n",
        "# Salary = 9602 * YearsExperience + 25235.61"
      ],
      "execution_count": 22,
      "outputs": []
    },
    {
      "cell_type": "code",
      "metadata": {
        "id": "lxDpx_8Bt41H",
        "outputId": "c7cff95a-46ab-40d8-8090-0798430a796f",
        "colab": {
          "base_uri": "https://localhost:8080/",
          "height": 34
        }
      },
      "source": [
        "## If YearsExperience = 8, what is the salary??\n",
        "\n",
        "9602 * 8 + 25235.61"
      ],
      "execution_count": 24,
      "outputs": [
        {
          "output_type": "execute_result",
          "data": {
            "text/plain": [
              "102051.61"
            ]
          },
          "metadata": {
            "tags": []
          },
          "execution_count": 24
        }
      ]
    },
    {
      "cell_type": "code",
      "metadata": {
        "id": "i4cbCwfOt7vI"
      },
      "source": [
        "# Predicting the Test set results\n",
        "y_pred = model.predict(X_test)\n"
      ],
      "execution_count": 25,
      "outputs": []
    },
    {
      "cell_type": "code",
      "metadata": {
        "id": "sYR0TA7suZsa",
        "outputId": "0d86b135-7c4b-4c3c-d6dd-23f52640ad28",
        "colab": {
          "base_uri": "https://localhost:8080/",
          "height": 295
        }
      },
      "source": [
        "# Visualising the Training set results\n",
        "plt.scatter(X_train, y_train, color = 'red')\n",
        "plt.plot(X_train, model.predict(X_train), color = 'blue')\n",
        "plt.title('Salary vs Experience (Training set)')\n",
        "plt.xlabel('Years of Experience')\n",
        "plt.ylabel('Salary')\n",
        "plt.show()"
      ],
      "execution_count": 27,
      "outputs": [
        {
          "output_type": "display_data",
          "data": {
            "image/png": "[encoded data removed]",
            "text/plain": [
              "<Figure size 432x288 with 1 Axes>"
            ]
          },
          "metadata": {
            "tags": [],
            "needs_background": "light"
          }
        }
      ]
    },
    {
      "cell_type": "code",
      "metadata": {
        "id": "eQPbQuluuVIr",
        "outputId": "08b4c620-dbf7-4447-9cd4-c6117a30755b",
        "colab": {
          "base_uri": "https://localhost:8080/",
          "height": 34
        }
      },
      "source": [
        "#This shows that our model is completely accurate\n",
        "#The coefficient of determination or R2 value lies between -1 to 1. Value of 1 represents it is completely accurate\n",
        "print('Coefficient of determination: %.2f'\n",
        "      % r2_score(y_test, y_pred))"
      ],
      "execution_count": 26,
      "outputs": [
        {
          "output_type": "stream",
          "text": [
            "Coefficient of determination: 0.96\n"
          ],
          "name": "stdout"
        }
      ]
    }
  ]
}